{
  "cells": [
    {
      "cell_type": "markdown",
      "metadata": {
        "id": "view-in-github",
        "colab_type": "text"
      },
      "source": [
        "<a href=\"https://colab.research.google.com/github/handeo/SBTi-finance-tool/blob/main/what_if_analysis_albaraka_v2.ipynb\" target=\"_parent\"><img src=\"https://colab.research.google.com/assets/colab-badge.svg\" alt=\"Open In Colab\"/></a>"
      ]
    },
    {
      "cell_type": "markdown",
      "metadata": {
        "id": "-GYUS7nshj8C"
      },
      "source": [
        "# SBTi-Finance Tool - What-if Analysis\n",
        "In this notebook we show you how to analyse what impact different actions would have on the temperature score of your portfolio.\n",
        "\n",
        "Please see the [methodology](https://sciencebasedtargets.org/wp-content/uploads/2020/09/Temperature-Rating-Methodology-V1.pdf), [guidance](https://sciencebasedtargets.org/wp-content/uploads/2020/10/Financial-Sector-Science-Based-Targets-Guidance-Pilot-Version.pdf) and the [technical documentation](https://sciencebasedtargets.github.io/SBTi-finance-tool/) for more details on the different what-if scenarios.\n",
        "\n",
        "See 1_analysis_example (on [Colab](https://colab.research.google.com/github/ScienceBasedTargets/SBTi-finance-tool/blob/main/examples/1_analysis_example.ipynb) or [Github](https://github.com/ScienceBasedTargets/SBTi-finance-tool/blob/main/examples/1_analysis_example.ipynb)) for more in depth example of how to work with Jupyter Notebooks in general and SBTi notebooks in particular.\n"
      ]
    },
    {
      "cell_type": "markdown",
      "metadata": {
        "id": "R7JNJac9hj8E"
      },
      "source": [
        "## Setting up\n",
        "First we will set up the imports, data providers, and load the portfolio.\n",
        "\n",
        "For more examples of this process, please refer to notebook 1 & 2 ([analysis](https://github.com/ScienceBasedTargets/SBTi-finance-tool/blob/main/examples/1_analysis_example.ipynb) and [quick calculation example](https://github.com/ScienceBasedTargets/SBTi-finance-tool/blob/main/examples/2_quick_temp_score_calculation.ipynb))."
      ]
    },
    {
      "cell_type": "code",
      "execution_count": null,
      "metadata": {
        "colab": {
          "base_uri": "https://localhost:8080/"
        },
        "id": "pTKh1GDthj8E",
        "outputId": "8c1f9798-8a4f-4282-c87a-2ff495572bf9"
      },
      "outputs": [
        {
          "output_type": "stream",
          "name": "stdout",
          "text": [
            "Requirement already satisfied: sbti-finance-tool in /usr/local/lib/python3.10/dist-packages (1.0.9)\n",
            "Requirement already satisfied: cleo<3.0.0,>=2.0.1 in /usr/local/lib/python3.10/dist-packages (from sbti-finance-tool) (2.1.0)\n",
            "Requirement already satisfied: openpyxl==3.1.2 in /usr/local/lib/python3.10/dist-packages (from sbti-finance-tool) (3.1.2)\n",
            "Requirement already satisfied: pandas==1.5.3 in /usr/local/lib/python3.10/dist-packages (from sbti-finance-tool) (1.5.3)\n",
            "Requirement already satisfied: pydantic==1.10.7 in /usr/local/lib/python3.10/dist-packages (from sbti-finance-tool) (1.10.7)\n",
            "Requirement already satisfied: requests==2.31.0 in /usr/local/lib/python3.10/dist-packages (from sbti-finance-tool) (2.31.0)\n",
            "Requirement already satisfied: six==1.16.0 in /usr/local/lib/python3.10/dist-packages (from sbti-finance-tool) (1.16.0)\n",
            "Requirement already satisfied: xlrd==2.0.1 in /usr/local/lib/python3.10/dist-packages (from sbti-finance-tool) (2.0.1)\n",
            "Requirement already satisfied: et-xmlfile in /usr/local/lib/python3.10/dist-packages (from openpyxl==3.1.2->sbti-finance-tool) (1.1.0)\n",
            "Requirement already satisfied: python-dateutil>=2.8.1 in /usr/local/lib/python3.10/dist-packages (from pandas==1.5.3->sbti-finance-tool) (2.8.2)\n",
            "Requirement already satisfied: pytz>=2020.1 in /usr/local/lib/python3.10/dist-packages (from pandas==1.5.3->sbti-finance-tool) (2023.4)\n",
            "Requirement already satisfied: numpy>=1.21.0 in /usr/local/lib/python3.10/dist-packages (from pandas==1.5.3->sbti-finance-tool) (1.25.2)\n",
            "Requirement already satisfied: typing-extensions>=4.2.0 in /usr/local/lib/python3.10/dist-packages (from pydantic==1.10.7->sbti-finance-tool) (4.10.0)\n",
            "Requirement already satisfied: charset-normalizer<4,>=2 in /usr/local/lib/python3.10/dist-packages (from requests==2.31.0->sbti-finance-tool) (3.3.2)\n",
            "Requirement already satisfied: idna<4,>=2.5 in /usr/local/lib/python3.10/dist-packages (from requests==2.31.0->sbti-finance-tool) (3.6)\n",
            "Requirement already satisfied: urllib3<3,>=1.21.1 in /usr/local/lib/python3.10/dist-packages (from requests==2.31.0->sbti-finance-tool) (2.0.7)\n",
            "Requirement already satisfied: certifi>=2017.4.17 in /usr/local/lib/python3.10/dist-packages (from requests==2.31.0->sbti-finance-tool) (2024.2.2)\n",
            "Requirement already satisfied: crashtest<0.5.0,>=0.4.1 in /usr/local/lib/python3.10/dist-packages (from cleo<3.0.0,>=2.0.1->sbti-finance-tool) (0.4.1)\n",
            "Requirement already satisfied: rapidfuzz<4.0.0,>=3.0.0 in /usr/local/lib/python3.10/dist-packages (from cleo<3.0.0,>=2.0.1->sbti-finance-tool) (3.6.2)\n"
          ]
        }
      ],
      "source": [
        "%pip install sbti-finance-tool"
      ]
    },
    {
      "cell_type": "code",
      "execution_count": null,
      "metadata": {
        "id": "c_rWzqlzhj8F"
      },
      "outputs": [],
      "source": [
        "%load_ext autoreload\n",
        "%autoreload 2\n",
        "import SBTi\n",
        "from SBTi.data.excel import ExcelProvider\n",
        "from SBTi.portfolio_aggregation import PortfolioAggregationMethod\n",
        "from SBTi.portfolio_coverage_tvp import PortfolioCoverageTVP\n",
        "from SBTi.temperature_score import TemperatureScore, Scenario, ScenarioType, EngagementType\n",
        "from SBTi.target_validation import TargetProtocol\n",
        "from SBTi.interfaces import ETimeFrames, EScope\n",
        "%aimport -pandas\n",
        "import pandas as pd"
      ]
    },
    {
      "cell_type": "code",
      "execution_count": null,
      "metadata": {
        "id": "cYHJwlJbhj8F"
      },
      "outputs": [],
      "source": [
        "# Download the dummy data\n",
        "import urllib.request\n",
        "import os\n",
        "\n",
        "if not os.path.isdir(\"data\"):\n",
        "    os.mkdir(\"data\")\n",
        "if not os.path.isfile(\"data/Data_Provider.xlsx\"):\n",
        "    urllib.request.urlretrieve(\"https://github.com/handeo/SBTi-finance-tool/raw/main/data/Data_Provider.xlsx\", \"data/Data_Provider.xlsx\")\n",
        "if not os.path.isfile(\"data/portfolio-data.csv\"):\n",
        "    urllib.request.urlretrieve(\"https://github.com/handeo/SBTi-finance-tool/raw/main/data/portfolio-data.csv\", \"data/portfolio-data.csv\")"
      ]
    },
    {
      "cell_type": "code",
      "execution_count": null,
      "metadata": {
        "scrolled": false,
        "colab": {
          "base_uri": "https://localhost:8080/"
        },
        "id": "IQJam3i3hj8G",
        "outputId": "c80f7e01-cead-45e7-ca0a-936df9f24eb6"
      },
      "outputs": [
        {
          "output_type": "stream",
          "name": "stdout",
          "text": [
            "Status code from fetching the CTA file: 200, 200 = OK\n"
          ]
        }
      ],
      "source": [
        "provider = ExcelProvider(path=\"data/Data_Provider.xlsx\")\n",
        "df_portfolio = pd.read_csv(\"data/portfolio-data.csv\", encoding=\"iso-8859-1\")\n",
        "df_portfolio.columns = ['company_name'] + list(df_portfolio.columns[1:])\n",
        "companies = SBTi.utils.dataframe_to_portfolio(df_portfolio)\n",
        "portfolio_data = SBTi.utils.get_data([provider], companies)\n",
        "scenarios = {}"
      ]
    },
    {
      "cell_type": "markdown",
      "metadata": {
        "id": "7lxzP0h-hj8G"
      },
      "source": [
        "## Base scenario\n",
        "To determine what the effect is of running a certain scenario, we first need a base line. To do so, first we calculate the portfolio temperature score, without defining a scenario.\n",
        "\n",
        "We can then analyse the effect of the actions in our scenario's by comparing the temperature score medium-term timeframe in the combined s1s2s3 scope. Of course you can use multiple, or different criteria and also change the scope used to calculate the scores."
      ]
    },
    {
      "cell_type": "code",
      "execution_count": null,
      "metadata": {
        "id": "aLfspQ71hj8G"
      },
      "outputs": [],
      "source": [
        "# Set the time frames and scopes for the scoring          other options displayed below. in this NB we use MID and S1S2S3\n",
        "time_frames = [SBTi.interfaces.ETimeFrames.MID]         # ETimeFrames: SHORT MID and LONG\n",
        "scopes = [EScope.S1S2S3]                                # EScopes: S1, S2, S3, S1S2 and S1S2S3"
      ]
    },
    {
      "cell_type": "markdown",
      "metadata": {
        "pycharm": {
          "name": "#%% md\n"
        },
        "scrolled": false,
        "id": "9keotBc1hj8G"
      },
      "source": [
        "Below we compute the temperature scores for all the timeframe and scope combinations. Subsequently, one can query the score of interest as shown in the last line in the cell below."
      ]
    },
    {
      "cell_type": "code",
      "execution_count": null,
      "metadata": {
        "pycharm": {
          "name": "#%%\n"
        },
        "colab": {
          "base_uri": "https://localhost:8080/"
        },
        "id": "02Srny0ehj8G",
        "outputId": "c459959e-c401-4b7d-8dee-14edff562e23"
      },
      "outputs": [
        {
          "output_type": "stream",
          "name": "stdout",
          "text": [
            "The portfolio's base scenario temperature score (mid - S1S2S3) is 3.20 degrees celcius\n"
          ]
        }
      ],
      "source": [
        "temperature_score = TemperatureScore(time_frames=time_frames, scopes=scopes)\n",
        "base_scenario = temperature_score.calculate(portfolio_data.copy())\n",
        "base_scenario_aggregated = temperature_score.aggregate_scores(base_scenario)\n",
        "base_score = base_scenario_aggregated.mid.S1S2S3.all.score\n",
        "scenarios.update({'Base Scenario': base_score})\n",
        "print(\"The portfolio's base scenario temperature score (mid - S1S2S3) is {c:.2f} degrees celcius\".format(c=base_score))"
      ]
    },
    {
      "cell_type": "markdown",
      "metadata": {
        "pycharm": {
          "name": "#%% md\n"
        },
        "id": "gIWeEVMthj8G"
      },
      "source": [
        "## Scenario 1\n",
        "In scenario 1 we engage companies to set emissions reduction targets of at least 2 degrees Celsius.\n",
        "\n",
        "In practice, in the model, this means that we change the default score (i.e. the score when a company didn't set a target) to 2 degrees Celcius."
      ]
    },
    {
      "cell_type": "code",
      "execution_count": null,
      "metadata": {
        "id": "xMb6_53Shj8H"
      },
      "outputs": [],
      "source": [
        "scenario = Scenario()\n",
        "scenario.scenario_type = ScenarioType.TARGETS\n",
        "scenario.engagement_type = None\n",
        "scenario.aggregation_method = PortfolioAggregationMethod.WATS\n",
        "scenario.grouping = None"
      ]
    },
    {
      "cell_type": "code",
      "execution_count": null,
      "metadata": {
        "pycharm": {
          "name": "#%%\n"
        },
        "id": "zSYnBYqbhj8H",
        "colab": {
          "base_uri": "https://localhost:8080/"
        },
        "outputId": "248b5679-9683-4c34-d442-2618d8a9e2a4"
      },
      "outputs": [
        {
          "output_type": "stream",
          "name": "stdout",
          "text": [
            "The portfolio's scenario 1 temperature score (mid - S1S2S3) is 2.00 degrees Celsius\n"
          ]
        }
      ],
      "source": [
        "temperature_score = TemperatureScore(time_frames=time_frames, scopes=scopes, scenario=scenario, aggregation_method=PortfolioAggregationMethod.WATS)\n",
        "scenario_one = temperature_score.calculate(portfolio_data.copy())\n",
        "scenario_aggregated = temperature_score.aggregate_scores(scenario_one)\n",
        "scenario_1_score = scenario_aggregated.mid.S1S2S3.all.score\n",
        "scenarios.update({'Scenario 1': scenario_1_score})\n",
        "print(\"The portfolio's scenario 1 temperature score (mid - S1S2S3) is {c:.2f} degrees Celsius\".format(c=scenario_1_score))"
      ]
    },
    {
      "cell_type": "markdown",
      "metadata": {
        "pycharm": {
          "name": "#%% md\n"
        },
        "id": "u82Z97zNhj8H"
      },
      "source": [
        "## Scenario 2\n",
        "In scenario 2 we engage with companies to influence them to set SBTi approved emissions reduction targets. This means that the maximum score for all targets will be capped at 1.75 degrees Celsius."
      ]
    },
    {
      "cell_type": "code",
      "execution_count": null,
      "metadata": {
        "id": "KfMvQmx9hj8H"
      },
      "outputs": [],
      "source": [
        "scenario = Scenario()\n",
        "scenario.scenario_type = ScenarioType.APPROVED_TARGETS\n",
        "scenario.engagement_type = None\n",
        "scenario.aggregation_method = PortfolioAggregationMethod.WATS\n",
        "scenario.grouping = None"
      ]
    },
    {
      "cell_type": "code",
      "execution_count": null,
      "metadata": {
        "pycharm": {
          "name": "#%%\n"
        },
        "id": "5WqFcSmUhj8H",
        "colab": {
          "base_uri": "https://localhost:8080/"
        },
        "outputId": "0671beb7-646e-4dfb-e6a8-864d9f68bfb6"
      },
      "outputs": [
        {
          "output_type": "stream",
          "name": "stdout",
          "text": [
            "The portfolio's scenario 2 temperature score (mid - S1S2S3) is 1.75 degrees Celsius\n"
          ]
        }
      ],
      "source": [
        "temperature_score = TemperatureScore(time_frames=time_frames, scopes=scopes, scenario=scenario, aggregation_method=PortfolioAggregationMethod.WATS)\n",
        "scenario_two = temperature_score.calculate(portfolio_data.copy())\n",
        "scenario_aggregated = temperature_score.aggregate_scores(scenario_two)\n",
        "scenario_2_score = scenario_aggregated.mid.S1S2S3.all.score\n",
        "scenarios.update({'Scenario 2': scenario_2_score})\n",
        "print(\"The portfolio's scenario 2 temperature score (mid - S1S2S3) is {c:.2f} degrees Celsius\".format(c=scenario_2_score))\n"
      ]
    },
    {
      "cell_type": "markdown",
      "metadata": {
        "pycharm": {
          "name": "#%% md\n"
        },
        "id": "WwI3W6Qohj8I"
      },
      "source": [
        "## Scenario 3a\n",
        "In scenario 3a we engage the top 10 contributing companies to the portfolio temperature score to influence them to set emission reduction targets. This means that their default score (i.e. the score when a company didn't set a target) will be set to 2 degrees Celsius."
      ]
    },
    {
      "cell_type": "code",
      "execution_count": null,
      "metadata": {
        "id": "4wuyDtLnhj8I"
      },
      "outputs": [],
      "source": [
        "scenario = Scenario()\n",
        "scenario.scenario_type = ScenarioType.HIGHEST_CONTRIBUTORS\n",
        "scenario.engagement_type = EngagementType.SET_TARGETS\n",
        "scenario.aggregation_method = PortfolioAggregationMethod.WATS\n",
        "scenario.grouping = None"
      ]
    },
    {
      "cell_type": "code",
      "execution_count": null,
      "metadata": {
        "pycharm": {
          "name": "#%%\n"
        },
        "id": "mNfExBbnhj8I",
        "colab": {
          "base_uri": "https://localhost:8080/"
        },
        "outputId": "e911f6dd-0dc6-486e-9e03-93c92aea47a5"
      },
      "outputs": [
        {
          "output_type": "stream",
          "name": "stdout",
          "text": [
            "The portfolio's scenario 3a temperature score (mid - S1S2S3) is 2.05 degrees Celsius\n"
          ]
        }
      ],
      "source": [
        "temperature_score = TemperatureScore(time_frames=time_frames, scopes=scopes, scenario=scenario, aggregation_method=PortfolioAggregationMethod.WATS)\n",
        "scenario_two = temperature_score.calculate(portfolio_data.copy())\n",
        "scenario_aggregated = temperature_score.aggregate_scores(scenario_two)\n",
        "scenario_3a_score = scenario_aggregated.mid.S1S2S3.all.score\n",
        "scenarios.update({'Scenario 3a': scenario_3a_score})\n",
        "print(\"The portfolio's scenario 3a temperature score (mid - S1S2S3) is {c:.2f} degrees Celsius\".format(c=scenario_3a_score))"
      ]
    },
    {
      "cell_type": "markdown",
      "metadata": {
        "pycharm": {
          "name": "#%% md\n"
        },
        "id": "VEBuMF5Ihj8I"
      },
      "source": [
        "## Scenario 3b\n",
        "In scenario 3b we engage the top 10 contributing companies to the portfolio temperature score to influence them to set SBTi-approved targets. This means that the maximum score for all the targets of these companies will be capped at 1.75 degrees Celsius."
      ]
    },
    {
      "cell_type": "code",
      "execution_count": null,
      "metadata": {
        "id": "62_k4H4Ihj8I"
      },
      "outputs": [],
      "source": [
        "scenario = Scenario()\n",
        "scenario.scenario_type = ScenarioType.HIGHEST_CONTRIBUTORS\n",
        "scenario.engagement_type = EngagementType.SET_SBTI_TARGETS\n",
        "scenario.aggregation_method = PortfolioAggregationMethod.WATS\n",
        "scenario.grouping = None"
      ]
    },
    {
      "cell_type": "code",
      "execution_count": null,
      "metadata": {
        "pycharm": {
          "name": "#%%\n"
        },
        "id": "-JXKMQOohj8I",
        "colab": {
          "base_uri": "https://localhost:8080/"
        },
        "outputId": "22f26e7a-02bd-422c-ffe0-8696f791f927"
      },
      "outputs": [
        {
          "output_type": "stream",
          "name": "stdout",
          "text": [
            "The portfolio's scenario 3b temperature score (mid - S1S2S3) is 1.81 degrees Celsius\n"
          ]
        }
      ],
      "source": [
        "temperature_score = TemperatureScore(time_frames=time_frames, scopes=scopes, scenario=scenario, aggregation_method=PortfolioAggregationMethod.WATS)\n",
        "scenario_two = temperature_score.calculate(portfolio_data.copy())\n",
        "scenario_aggregated = temperature_score.aggregate_scores(scenario_two)\n",
        "scenario_3b_score = scenario_aggregated.mid.S1S2S3.all.score\n",
        "scenarios.update({'Scenario 3b': scenario_3b_score})\n",
        "print(\"The portfolio's scenario 3b temperature score (mid - S1S2S3) is {c:.2f} degrees Celsius\".format(c=scenario_3b_score))"
      ]
    },
    {
      "cell_type": "markdown",
      "metadata": {
        "pycharm": {
          "name": "#%% md\n"
        },
        "id": "xJbGapPrhj8I"
      },
      "source": [
        "## Scenario 4a\n",
        "In scenario 4a we engage with any company in the portfolio to influence them to set emission reduction targets. We define these companies by adding \"`TRUE`\" in the `engagement_target`-column in the portfolio input-file.\n",
        "\n",
        "This means that their default score (i.e. the score when a company didn't set a target) will be set to 2 degrees Celsius.\n",
        "\n",
        "Scenario 4a and 4b gives you a lot of flexibility, as you can define the companies with which you engage freely and for example focus your engagement efforts on certain sectors, countries, market cap buckets to ensure that you spend your time wisely."
      ]
    },
    {
      "cell_type": "code",
      "execution_count": null,
      "metadata": {
        "id": "U-GE71Y2hj8I"
      },
      "outputs": [],
      "source": [
        "scenario = Scenario()\n",
        "scenario.scenario_type = ScenarioType.HIGHEST_CONTRIBUTORS_APPROVED\n",
        "scenario.engagement_type = EngagementType.SET_TARGETS\n",
        "scenario.aggregation_method = PortfolioAggregationMethod.WATS\n",
        "scenario.grouping = None"
      ]
    },
    {
      "cell_type": "code",
      "execution_count": null,
      "metadata": {
        "pycharm": {
          "name": "#%%\n"
        },
        "id": "92g5XGdThj8J",
        "colab": {
          "base_uri": "https://localhost:8080/"
        },
        "outputId": "f42df3d5-60a0-4be0-fa2b-3d699988ad40"
      },
      "outputs": [
        {
          "output_type": "stream",
          "name": "stdout",
          "text": [
            "The portfolio's scenario 4a temperature score (mid - S1S2S3) is 3.20 degrees Celsius\n"
          ]
        }
      ],
      "source": [
        "temperature_score = TemperatureScore(time_frames=time_frames, scopes=scopes, scenario=scenario, aggregation_method=PortfolioAggregationMethod.WATS)\n",
        "scenario_two = temperature_score.calculate(portfolio_data.copy())\n",
        "scenario_aggregated = temperature_score.aggregate_scores(scenario_two)\n",
        "scenario_4a_score = scenario_aggregated.mid.S1S2S3.all.score\n",
        "scenarios.update({'Scenario 4a': scenario_4a_score})\n",
        "print(\"The portfolio's scenario 4a temperature score (mid - S1S2S3) is {c:.2f} degrees Celsius\".format(c=scenario_4a_score))"
      ]
    },
    {
      "cell_type": "code",
      "source": [
        "scenario_aggregated"
      ],
      "metadata": {
        "colab": {
          "base_uri": "https://localhost:8080/"
        },
        "id": "8RHb1iIF-Zte",
        "outputId": "3ac305b3-5f2f-4dcb-980d-1e578a18e4b6"
      },
      "execution_count": null,
      "outputs": [
        {
          "output_type": "execute_result",
          "data": {
            "text/plain": [
              "ScoreAggregations(short=None, mid=ScoreAggregationScopes(S1S2=None, S3=None, S1S2S3=ScoreAggregation(all=Aggregation(score=3.1999999999999997, proportion=100.0, contributions=[AggregationContribution(company_name='Company 116', company_id='Customer116', temperature_score=3.2, contribution_relative=27.736965458790376, contribution=0.887582894681292), AggregationContribution(company_name='Company 117', company_id='Customer117', temperature_score=3.2, contribution_relative=19.936961979393924, contribution=0.6379827833406055), AggregationContribution(company_name='Company 121', company_id='Customer121', temperature_score=3.2, contribution_relative=14.967370870160485, contribution=0.47895586784513555), AggregationContribution(company_name='Company 119', company_id='Customer119', temperature_score=3.2, contribution_relative=13.582236809421525, contribution=0.4346315779014888), AggregationContribution(company_name='Company 160', company_id='Customer160', temperature_score=3.2, contribution_relative=8.605505919572533, contribution=0.275376189426321), AggregationContribution(company_name='Company 164', company_id='Customer164', temperature_score=3.2, contribution_relative=3.843484632536398, contribution=0.12299150824116474), AggregationContribution(company_name='Company 6', company_id='Customer6', temperature_score=3.2, contribution_relative=2.8639495781527295, contribution=0.09164638650088734), AggregationContribution(company_name='Company 123', company_id='Customer123', temperature_score=3.2, contribution_relative=2.8562889961575566, contribution=0.09140124787704182), AggregationContribution(company_name='Company 143', company_id='Customer143', temperature_score=3.2, contribution_relative=0.9550084489866368, contribution=0.03056027036757238), AggregationContribution(company_name='Company 138', company_id='Customer138', temperature_score=3.2, contribution_relative=0.7900085991325666, contribution=0.02528027517224213), AggregationContribution(company_name='Company 140', company_id='Customer140', temperature_score=3.2, contribution_relative=0.7438825875820785, contribution=0.02380424280262651), AggregationContribution(company_name='Company 129', company_id='Customer129', temperature_score=3.2, contribution_relative=0.6446985503733684, contribution=0.02063035361194779), AggregationContribution(company_name='Company 128', company_id='Customer128', temperature_score=3.2, contribution_relative=0.32684441900930944, contribution=0.010459021408297903), AggregationContribution(company_name='Company 130', company_id='Customer130', temperature_score=3.2, contribution_relative=0.3167765157434748, contribution=0.010136848503791195), AggregationContribution(company_name='Company 132', company_id='Customer132', temperature_score=3.2, contribution_relative=0.298802404299884, contribution=0.009561676937596287), AggregationContribution(company_name='Company 158', company_id='Customer158', temperature_score=3.2, contribution_relative=0.2727567948789785, contribution=0.008728217436127313), AggregationContribution(company_name='Company 136', company_id='Customer136', temperature_score=3.2, contribution_relative=0.26074512050660603, contribution=0.008343843856211394), AggregationContribution(company_name='Company 150', company_id='Customer150', temperature_score=3.2, contribution_relative=0.24300186073837596, contribution=0.007776059543628031), AggregationContribution(company_name='Company 133', company_id='Customer133', temperature_score=3.2, contribution_relative=0.22977775336700862, contribution=0.007352888107744276), AggregationContribution(company_name='Company 134', company_id='Customer134', temperature_score=3.2, contribution_relative=0.21940881951650354, contribution=0.007021082224528114), AggregationContribution(company_name='Company 144', company_id='Customer144', temperature_score=3.2, contribution_relative=0.16410322194696905, contribution=0.0052513031023030095), AggregationContribution(company_name='Company 154', company_id='Customer154', temperature_score=3.2, contribution_relative=0.04873371207536358, contribution=0.0015594787864116346), AggregationContribution(company_name='Company 156', company_id='Customer156', temperature_score=3.2, contribution_relative=0.037342567006360905, contribution=0.001194962144203549), AggregationContribution(company_name='Company 153', company_id='Customer153', temperature_score=3.2, contribution_relative=0.028580360816366876, contribution=0.0009145715461237401), AggregationContribution(company_name='Company 146', company_id='Customer146', temperature_score=3.2, contribution_relative=0.014366361461052498, contribution=0.00045972356675367995), AggregationContribution(company_name='Company 163', company_id='Customer163', temperature_score=3.2, contribution_relative=0.012397658373575706, contribution=0.0003967250679544226)]), influence_percentage=100.0, grouped={})), long=None)"
            ]
          },
          "metadata": {},
          "execution_count": 22
        }
      ]
    },
    {
      "cell_type": "code",
      "source": [
        "scenario_4a_score"
      ],
      "metadata": {
        "colab": {
          "base_uri": "https://localhost:8080/"
        },
        "id": "4QpnLqix-oCK",
        "outputId": "01d3b5a2-ac95-485b-db89-b8d486072383"
      },
      "execution_count": null,
      "outputs": [
        {
          "output_type": "execute_result",
          "data": {
            "text/plain": [
              "3.1999999999999997"
            ]
          },
          "metadata": {},
          "execution_count": 23
        }
      ]
    },
    {
      "cell_type": "code",
      "source": [
        "scenario"
      ],
      "metadata": {
        "colab": {
          "base_uri": "https://localhost:8080/",
          "height": 37
        },
        "id": "L2brl18s-vJE",
        "outputId": "396a3880-08a8-4b7f-a87d-6f05d078d9d9"
      },
      "execution_count": null,
      "outputs": [
        {
          "output_type": "execute_result",
          "data": {
            "text/plain": [
              "'Scenario 4b'"
            ],
            "application/vnd.google.colaboratory.intrinsic+json": {
              "type": "string"
            }
          },
          "metadata": {},
          "execution_count": 25
        }
      ]
    },
    {
      "cell_type": "markdown",
      "metadata": {
        "pycharm": {
          "name": "#%% md\n"
        },
        "id": "zMxUzmKShj8J"
      },
      "source": [
        "## Scenario 4b\n",
        "In scenario 4b we can engage with any company in the portfolio and manage to influence them to set SBTi-approved targets. We define these companies by adding \"`TRUE`\" in the `engagement_target`-column in the portfolio input-file.\n",
        "\n",
        "This means that the maximum score for all the targets of these companies will be capped at 1.75 degrees Celsius."
      ]
    },
    {
      "cell_type": "code",
      "execution_count": null,
      "metadata": {
        "id": "gm31AbpDhj8J"
      },
      "outputs": [],
      "source": [
        "scenario = Scenario()\n",
        "scenario.scenario_type = ScenarioType.HIGHEST_CONTRIBUTORS_APPROVED\n",
        "scenario.engagement_type = EngagementType.SET_SBTI_TARGETS\n",
        "scenario.aggregation_method = PortfolioAggregationMethod.WATS\n",
        "scenario.grouping = None"
      ]
    },
    {
      "cell_type": "code",
      "execution_count": null,
      "metadata": {
        "pycharm": {
          "name": "#%%\n"
        },
        "id": "GN66-DeShj8J",
        "colab": {
          "base_uri": "https://localhost:8080/"
        },
        "outputId": "07647f9f-396d-4658-aea1-9419f02dc58a"
      },
      "outputs": [
        {
          "output_type": "stream",
          "name": "stdout",
          "text": [
            "The portfolio's scenario 4b temperature score (mid - S1S2S3) is 3.20 degrees Celsius\n"
          ]
        }
      ],
      "source": [
        "temperature_score = TemperatureScore(time_frames=time_frames, scopes=scopes, scenario=scenario, aggregation_method=PortfolioAggregationMethod.WATS)\n",
        "scenario_two = temperature_score.calculate(portfolio_data.copy())\n",
        "scenario_aggregated = temperature_score.aggregate_scores(scenario_two)\n",
        "scenario_4b_score = scenario_aggregated.mid.S1S2S3.all.score\n",
        "scenarios.update({'Scenario 4b': scenario_4b_score})\n",
        "print(\"The portfolio's scenario 4b temperature score (mid - S1S2S3) is {c:.2f} degrees Celsius\".format(c=scenario_4b_score))"
      ]
    },
    {
      "cell_type": "markdown",
      "metadata": {
        "id": "cttmPO5Lhj8J"
      },
      "source": [
        "To see which scenario provides the most suitable outcome we print an overview of all scenarios:"
      ]
    },
    {
      "cell_type": "code",
      "execution_count": null,
      "metadata": {
        "pycharm": {
          "name": "#%%\n"
        },
        "id": "Y5hGQWk-hj8J",
        "colab": {
          "base_uri": "https://localhost:8080/"
        },
        "outputId": "861b4788-7e26-46b9-e9c0-7df67544f52d"
      },
      "outputs": [
        {
          "output_type": "stream",
          "name": "stdout",
          "text": [
            "                    Temp score\n",
            "Scenario overview   (mid - S1S2S3):\n",
            "Base Scenario       3.20\n",
            "Scenario 1          2.00\n",
            "Scenario 2          1.75\n",
            "Scenario 3a         2.05\n",
            "Scenario 3b         1.81\n",
            "Scenario 4a         3.20\n",
            "Scenario 4b         3.20\n"
          ]
        }
      ],
      "source": [
        "print('{:<20s}{}'.format('', 'Temp score'))\n",
        "print('{:<20s}{}'.format('Scenario overview', '(mid - S1S2S3):'))\n",
        "for scenario, score in scenarios.items():\n",
        "    print('{:<20s}{:.2f}'.format(scenario, score))"
      ]
    }
  ],
  "metadata": {
    "kernelspec": {
      "display_name": "Python 3",
      "language": "python",
      "name": "python3"
    },
    "language_info": {
      "codemirror_mode": {
        "name": "ipython",
        "version": 3
      },
      "file_extension": ".py",
      "mimetype": "text/x-python",
      "name": "python",
      "nbconvert_exporter": "python",
      "pygments_lexer": "ipython3",
      "version": "3.8.5"
    },
    "pycharm": {
      "stem_cell": {
        "cell_type": "raw",
        "metadata": {
          "collapsed": false
        },
        "source": []
      }
    },
    "colab": {
      "provenance": [],
      "include_colab_link": true
    }
  },
  "nbformat": 4,
  "nbformat_minor": 0
}