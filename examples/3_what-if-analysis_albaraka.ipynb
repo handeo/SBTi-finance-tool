{
  "cells": [
    {
      "cell_type": "markdown",
      "metadata": {
        "id": "view-in-github",
        "colab_type": "text"
      },
      "source": [
        "<a href=\"https://colab.research.google.com/github/handeo/SBTi-finance-tool/blob/main/examples/3_what-if-analysis_albaraka.ipynb\" target=\"_parent\"><img src=\"https://colab.research.google.com/assets/colab-badge.svg\" alt=\"Open In Colab\"/></a>"
      ]
    },
    {
      "cell_type": "markdown",
      "metadata": {
        "id": "-GYUS7nshj8C"
      },
      "source": [
        "# SBTi-Finance Tool - What-if Analysis\n",
        "In this notebook we show you how to analyse what impact different actions would have on the temperature score of your portfolio.\n",
        "\n",
        "Please see the [methodology](https://sciencebasedtargets.org/wp-content/uploads/2020/09/Temperature-Rating-Methodology-V1.pdf), [guidance](https://sciencebasedtargets.org/wp-content/uploads/2020/10/Financial-Sector-Science-Based-Targets-Guidance-Pilot-Version.pdf) and the [technical documentation](https://sciencebasedtargets.github.io/SBTi-finance-tool/) for more details on the different what-if scenarios.\n",
        "\n",
        "See 1_analysis_example (on [Colab](https://colab.research.google.com/github/ScienceBasedTargets/SBTi-finance-tool/blob/main/examples/1_analysis_example.ipynb) or [Github](https://github.com/ScienceBasedTargets/SBTi-finance-tool/blob/main/examples/1_analysis_example.ipynb)) for more in depth example of how to work with Jupyter Notebooks in general and SBTi notebooks in particular.\n"
      ]
    },
    {
      "cell_type": "markdown",
      "metadata": {
        "id": "R7JNJac9hj8E"
      },
      "source": [
        "## Setting up\n",
        "First we will set up the imports, data providers, and load the portfolio.\n",
        "\n",
        "For more examples of this process, please refer to notebook 1 & 2 ([analysis](https://github.com/ScienceBasedTargets/SBTi-finance-tool/blob/main/examples/1_analysis_example.ipynb) and [quick calculation example](https://github.com/ScienceBasedTargets/SBTi-finance-tool/blob/main/examples/2_quick_temp_score_calculation.ipynb))."
      ]
    },
    {
      "cell_type": "code",
      "execution_count": 1,
      "metadata": {
        "colab": {
          "base_uri": "https://localhost:8080/"
        },
        "id": "pTKh1GDthj8E",
        "outputId": "a122d5f3-0cc3-4b21-8e95-43d0ceb24a99"
      },
      "outputs": [
        {
          "output_type": "stream",
          "name": "stdout",
          "text": [
            "Collecting sbti-finance-tool\n",
            "  Downloading sbti_finance_tool-1.0.9-py3-none-any.whl (1.9 MB)\n",
            "\u001b[2K     \u001b[90m━━━━━━━━━━━━━━━━━━━━━━━━━━━━━━━━━━━━━━━━\u001b[0m \u001b[32m1.9/1.9 MB\u001b[0m \u001b[31m19.3 MB/s\u001b[0m eta \u001b[36m0:00:00\u001b[0m\n",
            "\u001b[?25hCollecting cleo<3.0.0,>=2.0.1 (from sbti-finance-tool)\n",
            "  Downloading cleo-2.1.0-py3-none-any.whl (78 kB)\n",
            "\u001b[2K     \u001b[90m━━━━━━━━━━━━━━━━━━━━━━━━━━━━━━━━━━━━━━━━\u001b[0m \u001b[32m78.7/78.7 kB\u001b[0m \u001b[31m13.8 MB/s\u001b[0m eta \u001b[36m0:00:00\u001b[0m\n",
            "\u001b[?25hRequirement already satisfied: openpyxl==3.1.2 in /usr/local/lib/python3.10/dist-packages (from sbti-finance-tool) (3.1.2)\n",
            "Requirement already satisfied: pandas==1.5.3 in /usr/local/lib/python3.10/dist-packages (from sbti-finance-tool) (1.5.3)\n",
            "Collecting pydantic==1.10.7 (from sbti-finance-tool)\n",
            "  Downloading pydantic-1.10.7-cp310-cp310-manylinux_2_17_x86_64.manylinux2014_x86_64.whl (3.1 MB)\n",
            "\u001b[2K     \u001b[90m━━━━━━━━━━━━━━━━━━━━━━━━━━━━━━━━━━━━━━━━\u001b[0m \u001b[32m3.1/3.1 MB\u001b[0m \u001b[31m69.5 MB/s\u001b[0m eta \u001b[36m0:00:00\u001b[0m\n",
            "\u001b[?25hRequirement already satisfied: requests==2.31.0 in /usr/local/lib/python3.10/dist-packages (from sbti-finance-tool) (2.31.0)\n",
            "Requirement already satisfied: six==1.16.0 in /usr/local/lib/python3.10/dist-packages (from sbti-finance-tool) (1.16.0)\n",
            "Requirement already satisfied: xlrd==2.0.1 in /usr/local/lib/python3.10/dist-packages (from sbti-finance-tool) (2.0.1)\n",
            "Requirement already satisfied: et-xmlfile in /usr/local/lib/python3.10/dist-packages (from openpyxl==3.1.2->sbti-finance-tool) (1.1.0)\n",
            "Requirement already satisfied: python-dateutil>=2.8.1 in /usr/local/lib/python3.10/dist-packages (from pandas==1.5.3->sbti-finance-tool) (2.8.2)\n",
            "Requirement already satisfied: pytz>=2020.1 in /usr/local/lib/python3.10/dist-packages (from pandas==1.5.3->sbti-finance-tool) (2023.4)\n",
            "Requirement already satisfied: numpy>=1.21.0 in /usr/local/lib/python3.10/dist-packages (from pandas==1.5.3->sbti-finance-tool) (1.25.2)\n",
            "Requirement already satisfied: typing-extensions>=4.2.0 in /usr/local/lib/python3.10/dist-packages (from pydantic==1.10.7->sbti-finance-tool) (4.9.0)\n",
            "Requirement already satisfied: charset-normalizer<4,>=2 in /usr/local/lib/python3.10/dist-packages (from requests==2.31.0->sbti-finance-tool) (3.3.2)\n",
            "Requirement already satisfied: idna<4,>=2.5 in /usr/local/lib/python3.10/dist-packages (from requests==2.31.0->sbti-finance-tool) (3.6)\n",
            "Requirement already satisfied: urllib3<3,>=1.21.1 in /usr/local/lib/python3.10/dist-packages (from requests==2.31.0->sbti-finance-tool) (2.0.7)\n",
            "Requirement already satisfied: certifi>=2017.4.17 in /usr/local/lib/python3.10/dist-packages (from requests==2.31.0->sbti-finance-tool) (2024.2.2)\n",
            "Collecting crashtest<0.5.0,>=0.4.1 (from cleo<3.0.0,>=2.0.1->sbti-finance-tool)\n",
            "  Downloading crashtest-0.4.1-py3-none-any.whl (7.6 kB)\n",
            "Collecting rapidfuzz<4.0.0,>=3.0.0 (from cleo<3.0.0,>=2.0.1->sbti-finance-tool)\n",
            "  Downloading rapidfuzz-3.6.1-cp310-cp310-manylinux_2_17_x86_64.manylinux2014_x86_64.whl (3.4 MB)\n",
            "\u001b[2K     \u001b[90m━━━━━━━━━━━━━━━━━━━━━━━━━━━━━━━━━━━━━━━━\u001b[0m \u001b[32m3.4/3.4 MB\u001b[0m \u001b[31m66.7 MB/s\u001b[0m eta \u001b[36m0:00:00\u001b[0m\n",
            "\u001b[?25hInstalling collected packages: rapidfuzz, pydantic, crashtest, cleo, sbti-finance-tool\n",
            "  Attempting uninstall: pydantic\n",
            "    Found existing installation: pydantic 2.6.1\n",
            "    Uninstalling pydantic-2.6.1:\n",
            "      Successfully uninstalled pydantic-2.6.1\n",
            "\u001b[31mERROR: pip's dependency resolver does not currently take into account all the packages that are installed. This behaviour is the source of the following dependency conflicts.\n",
            "lida 0.0.10 requires fastapi, which is not installed.\n",
            "lida 0.0.10 requires kaleido, which is not installed.\n",
            "lida 0.0.10 requires python-multipart, which is not installed.\n",
            "lida 0.0.10 requires uvicorn, which is not installed.\n",
            "llmx 0.0.15a0 requires cohere, which is not installed.\n",
            "llmx 0.0.15a0 requires openai, which is not installed.\n",
            "llmx 0.0.15a0 requires tiktoken, which is not installed.\u001b[0m\u001b[31m\n",
            "\u001b[0mSuccessfully installed cleo-2.1.0 crashtest-0.4.1 pydantic-1.10.7 rapidfuzz-3.6.1 sbti-finance-tool-1.0.9\n"
          ]
        }
      ],
      "source": [
        "%pip install sbti-finance-tool"
      ]
    },
    {
      "cell_type": "code",
      "execution_count": 2,
      "metadata": {
        "id": "c_rWzqlzhj8F"
      },
      "outputs": [],
      "source": [
        "%load_ext autoreload\n",
        "%autoreload 2\n",
        "import SBTi\n",
        "from SBTi.data.excel import ExcelProvider\n",
        "from SBTi.portfolio_aggregation import PortfolioAggregationMethod\n",
        "from SBTi.portfolio_coverage_tvp import PortfolioCoverageTVP\n",
        "from SBTi.temperature_score import TemperatureScore, Scenario, ScenarioType, EngagementType\n",
        "from SBTi.target_validation import TargetProtocol\n",
        "from SBTi.interfaces import ETimeFrames, EScope\n",
        "%aimport -pandas\n",
        "import pandas as pd"
      ]
    },
    {
      "cell_type": "code",
      "execution_count": 8,
      "metadata": {
        "id": "cYHJwlJbhj8F"
      },
      "outputs": [],
      "source": [
        "# Download the dummy data\n",
        "import urllib.request\n",
        "import os\n",
        "\n",
        "if not os.path.isdir(\"data\"):\n",
        "    os.mkdir(\"data\")\n",
        "if not os.path.isfile(\"data/Data_Provider_norevenue.xlsx\"):\n",
        "    urllib.request.urlretrieve(\"https://github.com/handeo/SBTi-finance-tool/raw/main/data/Data_Provider_norevenue.xlsx\", \"data/Data_Provider_norevenue.xlsx\")\n",
        "if not os.path.isfile(\"data/portfolio_data.csv\"):\n",
        "    urllib.request.urlretrieve(\"https://github.com/handeo/SBTi-finance-tool/raw/main/data/portfolio_data.csv\", \"data/portfolio_data.csv\")"
      ]
    },
    {
      "cell_type": "code",
      "execution_count": 10,
      "metadata": {
        "scrolled": false,
        "colab": {
          "base_uri": "https://localhost:8080/"
        },
        "id": "IQJam3i3hj8G",
        "outputId": "db38dd1f-e7db-4966-90ee-cbd1c0f22ae4"
      },
      "outputs": [
        {
          "output_type": "stream",
          "name": "stdout",
          "text": [
            "Status code from fetching the CTA file: 200, 200 = OK\n"
          ]
        }
      ],
      "source": [
        "provider = ExcelProvider(path=\"data/Data_Provider_norevenue.xlsx\")\n",
        "df_portfolio = pd.read_csv(\"data/portfolio_data.csv\", encoding=\"iso-8859-1\")\n",
        "df_portfolio.columns = ['company_name'] + list(df_portfolio.columns[1:])\n",
        "companies = SBTi.utils.dataframe_to_portfolio(df_portfolio)\n",
        "portfolio_data = SBTi.utils.get_data([provider], companies)\n",
        "scenarios = {}"
      ]
    },
    {
      "cell_type": "markdown",
      "metadata": {
        "id": "7lxzP0h-hj8G"
      },
      "source": [
        "## Base scenario\n",
        "To determine what the effect is of running a certain scenario, we first need a base line. To do so, first we calculate the portfolio temperature score, without defining a scenario.\n",
        "\n",
        "We can then analyse the effect of the actions in our scenario's by comparing the temperature score medium-term timeframe in the combined s1s2s3 scope. Of course you can use multiple, or different criteria and also change the scope used to calculate the scores."
      ]
    },
    {
      "cell_type": "code",
      "execution_count": 11,
      "metadata": {
        "id": "aLfspQ71hj8G"
      },
      "outputs": [],
      "source": [
        "# Set the time frames and scopes for the scoring          other options displayed below. in this NB we use MID and S1S2S3\n",
        "time_frames = [SBTi.interfaces.ETimeFrames.MID]         # ETimeFrames: SHORT MID and LONG\n",
        "scopes = [EScope.S1S2S3]                                # EScopes: S1, S2, S3, S1S2 and S1S2S3"
      ]
    },
    {
      "cell_type": "markdown",
      "metadata": {
        "pycharm": {
          "name": "#%% md\n"
        },
        "scrolled": false,
        "id": "9keotBc1hj8G"
      },
      "source": [
        "Below we compute the temperature scores for all the timeframe and scope combinations. Subsequently, one can query the score of interest as shown in the last line in the cell below."
      ]
    },
    {
      "cell_type": "code",
      "execution_count": 12,
      "metadata": {
        "pycharm": {
          "name": "#%%\n"
        },
        "colab": {
          "base_uri": "https://localhost:8080/"
        },
        "id": "02Srny0ehj8G",
        "outputId": "f092fafc-55c7-46f6-880c-968106dfeb18"
      },
      "outputs": [
        {
          "output_type": "stream",
          "name": "stdout",
          "text": [
            "The portfolio's base scenario temperature score (mid - S1S2S3) is 3.20 degrees celcius\n"
          ]
        }
      ],
      "source": [
        "temperature_score = TemperatureScore(time_frames=time_frames, scopes=scopes)\n",
        "base_scenario = temperature_score.calculate(portfolio_data.copy())\n",
        "base_scenario_aggregated = temperature_score.aggregate_scores(base_scenario)\n",
        "base_score = base_scenario_aggregated.mid.S1S2S3.all.score\n",
        "scenarios.update({'Base Scenario': base_score})\n",
        "print(\"The portfolio's base scenario temperature score (mid - S1S2S3) is {c:.2f} degrees celcius\".format(c=base_score))"
      ]
    },
    {
      "cell_type": "markdown",
      "metadata": {
        "pycharm": {
          "name": "#%% md\n"
        },
        "id": "gIWeEVMthj8G"
      },
      "source": [
        "## Scenario 1\n",
        "In scenario 1 we engage companies to set emissions reduction targets of at least 2 degrees Celsius.\n",
        "\n",
        "In practice, in the model, this means that we change the default score (i.e. the score when a company didn't set a target) to 2 degrees Celcius."
      ]
    },
    {
      "cell_type": "code",
      "execution_count": null,
      "metadata": {
        "id": "xMb6_53Shj8H"
      },
      "outputs": [],
      "source": [
        "scenario = Scenario()\n",
        "scenario.scenario_type = ScenarioType.TARGETS\n",
        "scenario.engagement_type = None\n",
        "scenario.aggregation_method = PortfolioAggregationMethod.WATS\n",
        "scenario.grouping = None"
      ]
    },
    {
      "cell_type": "code",
      "execution_count": null,
      "metadata": {
        "pycharm": {
          "name": "#%%\n"
        },
        "id": "zSYnBYqbhj8H"
      },
      "outputs": [],
      "source": [
        "temperature_score = TemperatureScore(time_frames=time_frames, scopes=scopes, scenario=scenario, aggregation_method=PortfolioAggregationMethod.WATS)\n",
        "scenario_one = temperature_score.calculate(portfolio_data.copy())\n",
        "scenario_aggregated = temperature_score.aggregate_scores(scenario_one)\n",
        "scenario_1_score = scenario_aggregated.mid.S1S2S3.all.score\n",
        "scenarios.update({'Scenario 1': scenario_1_score})\n",
        "print(\"The portfolio's scenario 1 temperature score (mid - S1S2S3) is {c:.2f} degrees Celsius\".format(c=scenario_1_score))"
      ]
    },
    {
      "cell_type": "markdown",
      "metadata": {
        "pycharm": {
          "name": "#%% md\n"
        },
        "id": "u82Z97zNhj8H"
      },
      "source": [
        "## Scenario 2\n",
        "In scenario 2 we engage with companies to influence them to set SBTi approved emissions reduction targets. This means that the maximum score for all targets will be capped at 1.75 degrees Celsius."
      ]
    },
    {
      "cell_type": "code",
      "execution_count": null,
      "metadata": {
        "id": "KfMvQmx9hj8H"
      },
      "outputs": [],
      "source": [
        "scenario = Scenario()\n",
        "scenario.scenario_type = ScenarioType.APPROVED_TARGETS\n",
        "scenario.engagement_type = None\n",
        "scenario.aggregation_method = PortfolioAggregationMethod.WATS\n",
        "scenario.grouping = None"
      ]
    },
    {
      "cell_type": "code",
      "execution_count": null,
      "metadata": {
        "pycharm": {
          "name": "#%%\n"
        },
        "id": "5WqFcSmUhj8H"
      },
      "outputs": [],
      "source": [
        "temperature_score = TemperatureScore(time_frames=time_frames, scopes=scopes, scenario=scenario, aggregation_method=PortfolioAggregationMethod.WATS)\n",
        "scenario_two = temperature_score.calculate(portfolio_data.copy())\n",
        "scenario_aggregated = temperature_score.aggregate_scores(scenario_two)\n",
        "scenario_2_score = scenario_aggregated.mid.S1S2S3.all.score\n",
        "scenarios.update({'Scenario 2': scenario_2_score})\n",
        "print(\"The portfolio's scenario 2 temperature score (mid - S1S2S3) is {c:.2f} degrees Celsius\".format(c=scenario_2_score))\n"
      ]
    },
    {
      "cell_type": "markdown",
      "metadata": {
        "pycharm": {
          "name": "#%% md\n"
        },
        "id": "WwI3W6Qohj8I"
      },
      "source": [
        "## Scenario 3a\n",
        "In scenario 3a we engage the top 10 contributing companies to the portfolio temperature score to influence them to set emission reduction targets. This means that their default score (i.e. the score when a company didn't set a target) will be set to 2 degrees Celsius."
      ]
    },
    {
      "cell_type": "code",
      "execution_count": null,
      "metadata": {
        "id": "4wuyDtLnhj8I"
      },
      "outputs": [],
      "source": [
        "scenario = Scenario()\n",
        "scenario.scenario_type = ScenarioType.HIGHEST_CONTRIBUTORS\n",
        "scenario.engagement_type = EngagementType.SET_TARGETS\n",
        "scenario.aggregation_method = PortfolioAggregationMethod.WATS\n",
        "scenario.grouping = None"
      ]
    },
    {
      "cell_type": "code",
      "execution_count": null,
      "metadata": {
        "pycharm": {
          "name": "#%%\n"
        },
        "id": "mNfExBbnhj8I"
      },
      "outputs": [],
      "source": [
        "temperature_score = TemperatureScore(time_frames=time_frames, scopes=scopes, scenario=scenario, aggregation_method=PortfolioAggregationMethod.WATS)\n",
        "scenario_two = temperature_score.calculate(portfolio_data.copy())\n",
        "scenario_aggregated = temperature_score.aggregate_scores(scenario_two)\n",
        "scenario_3a_score = scenario_aggregated.mid.S1S2S3.all.score\n",
        "scenarios.update({'Scenario 3a': scenario_3a_score})\n",
        "print(\"The portfolio's scenario 3a temperature score (mid - S1S2S3) is {c:.2f} degrees Celsius\".format(c=scenario_3a_score))"
      ]
    },
    {
      "cell_type": "markdown",
      "metadata": {
        "pycharm": {
          "name": "#%% md\n"
        },
        "id": "VEBuMF5Ihj8I"
      },
      "source": [
        "## Scenario 3b\n",
        "In scenario 3b we engage the top 10 contributing companies to the portfolio temperature score to influence them to set SBTi-approved targets. This means that the maximum score for all the targets of these companies will be capped at 1.75 degrees Celsius."
      ]
    },
    {
      "cell_type": "code",
      "execution_count": null,
      "metadata": {
        "id": "62_k4H4Ihj8I"
      },
      "outputs": [],
      "source": [
        "scenario = Scenario()\n",
        "scenario.scenario_type = ScenarioType.HIGHEST_CONTRIBUTORS\n",
        "scenario.engagement_type = EngagementType.SET_SBTI_TARGETS\n",
        "scenario.aggregation_method = PortfolioAggregationMethod.WATS\n",
        "scenario.grouping = None"
      ]
    },
    {
      "cell_type": "code",
      "execution_count": null,
      "metadata": {
        "pycharm": {
          "name": "#%%\n"
        },
        "id": "-JXKMQOohj8I"
      },
      "outputs": [],
      "source": [
        "temperature_score = TemperatureScore(time_frames=time_frames, scopes=scopes, scenario=scenario, aggregation_method=PortfolioAggregationMethod.WATS)\n",
        "scenario_two = temperature_score.calculate(portfolio_data.copy())\n",
        "scenario_aggregated = temperature_score.aggregate_scores(scenario_two)\n",
        "scenario_3b_score = scenario_aggregated.mid.S1S2S3.all.score\n",
        "scenarios.update({'Scenario 3b': scenario_3b_score})\n",
        "print(\"The portfolio's scenario 3b temperature score (mid - S1S2S3) is {c:.2f} degrees Celsius\".format(c=scenario_3b_score))"
      ]
    },
    {
      "cell_type": "markdown",
      "metadata": {
        "pycharm": {
          "name": "#%% md\n"
        },
        "id": "xJbGapPrhj8I"
      },
      "source": [
        "## Scenario 4a\n",
        "In scenario 4a we engage with any company in the portfolio to influence them to set emission reduction targets. We define these companies by adding \"`TRUE`\" in the `engagement_target`-column in the portfolio input-file.\n",
        "\n",
        "This means that their default score (i.e. the score when a company didn't set a target) will be set to 2 degrees Celsius.\n",
        "\n",
        "Scenario 4a and 4b gives you a lot of flexibility, as you can define the companies with which you engage freely and for example focus your engagement efforts on certain sectors, countries, market cap buckets to ensure that you spend your time wisely."
      ]
    },
    {
      "cell_type": "code",
      "execution_count": null,
      "metadata": {
        "id": "U-GE71Y2hj8I"
      },
      "outputs": [],
      "source": [
        "scenario = Scenario()\n",
        "scenario.scenario_type = ScenarioType.HIGHEST_CONTRIBUTORS_APPROVED\n",
        "scenario.engagement_type = EngagementType.SET_TARGETS\n",
        "scenario.aggregation_method = PortfolioAggregationMethod.WATS\n",
        "scenario.grouping = None"
      ]
    },
    {
      "cell_type": "code",
      "execution_count": null,
      "metadata": {
        "pycharm": {
          "name": "#%%\n"
        },
        "id": "92g5XGdThj8J"
      },
      "outputs": [],
      "source": [
        "temperature_score = TemperatureScore(time_frames=time_frames, scopes=scopes, scenario=scenario, aggregation_method=PortfolioAggregationMethod.WATS)\n",
        "scenario_two = temperature_score.calculate(portfolio_data.copy())\n",
        "scenario_aggregated = temperature_score.aggregate_scores(scenario_two)\n",
        "scenario_4a_score = scenario_aggregated.mid.S1S2S3.all.score\n",
        "scenarios.update({'Scenario 4a': scenario_4a_score})\n",
        "print(\"The portfolio's scenario 4a temperature score (mid - S1S2S3) is {c:.2f} degrees Celsius\".format(c=scenario_4a_score))"
      ]
    },
    {
      "cell_type": "markdown",
      "metadata": {
        "pycharm": {
          "name": "#%% md\n"
        },
        "id": "zMxUzmKShj8J"
      },
      "source": [
        "## Scenario 4b\n",
        "In scenario 4b we can engage with any company in the portfolio and manage to influence them to set SBTi-approved targets. We define these companies by adding \"`TRUE`\" in the `engagement_target`-column in the portfolio input-file.\n",
        "\n",
        "This means that the maximum score for all the targets of these companies will be capped at 1.75 degrees Celsius."
      ]
    },
    {
      "cell_type": "code",
      "execution_count": null,
      "metadata": {
        "id": "gm31AbpDhj8J"
      },
      "outputs": [],
      "source": [
        "scenario = Scenario()\n",
        "scenario.scenario_type = ScenarioType.HIGHEST_CONTRIBUTORS_APPROVED\n",
        "scenario.engagement_type = EngagementType.SET_SBTI_TARGETS\n",
        "scenario.aggregation_method = PortfolioAggregationMethod.WATS\n",
        "scenario.grouping = None"
      ]
    },
    {
      "cell_type": "code",
      "execution_count": null,
      "metadata": {
        "pycharm": {
          "name": "#%%\n"
        },
        "id": "GN66-DeShj8J"
      },
      "outputs": [],
      "source": [
        "temperature_score = TemperatureScore(time_frames=time_frames, scopes=scopes, scenario=scenario, aggregation_method=PortfolioAggregationMethod.WATS)\n",
        "scenario_two = temperature_score.calculate(portfolio_data.copy())\n",
        "scenario_aggregated = temperature_score.aggregate_scores(scenario_two)\n",
        "scenario_4b_score = scenario_aggregated.mid.S1S2S3.all.score\n",
        "scenarios.update({'Scenario 4b': scenario_4b_score})\n",
        "print(\"The portfolio's scenario 4b temperature score (mid - S1S2S3) is {c:.2f} degrees Celsius\".format(c=scenario_4b_score))"
      ]
    },
    {
      "cell_type": "markdown",
      "metadata": {
        "id": "cttmPO5Lhj8J"
      },
      "source": [
        "To see which scenario provides the most suitable outcome we print an overview of all scenarios:"
      ]
    },
    {
      "cell_type": "code",
      "execution_count": null,
      "metadata": {
        "pycharm": {
          "name": "#%%\n"
        },
        "id": "Y5hGQWk-hj8J"
      },
      "outputs": [],
      "source": [
        "print('{:<20s}{}'.format('', 'Temp score'))\n",
        "print('{:<20s}{}'.format('Scenario overview', '(mid - S1S2S3):'))\n",
        "for scenario, score in scenarios.items():\n",
        "    print('{:<20s}{:.2f}'.format(scenario, score))"
      ]
    }
  ],
  "metadata": {
    "kernelspec": {
      "display_name": "Python 3",
      "language": "python",
      "name": "python3"
    },
    "language_info": {
      "codemirror_mode": {
        "name": "ipython",
        "version": 3
      },
      "file_extension": ".py",
      "mimetype": "text/x-python",
      "name": "python",
      "nbconvert_exporter": "python",
      "pygments_lexer": "ipython3",
      "version": "3.8.5"
    },
    "pycharm": {
      "stem_cell": {
        "cell_type": "raw",
        "metadata": {
          "collapsed": false
        },
        "source": []
      }
    },
    "colab": {
      "provenance": [],
      "include_colab_link": true
    }
  },
  "nbformat": 4,
  "nbformat_minor": 0
}